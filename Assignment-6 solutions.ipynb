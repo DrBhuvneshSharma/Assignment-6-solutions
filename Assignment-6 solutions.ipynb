{
 "cells": [
  {
   "cell_type": "markdown",
   "id": "4dc0515d",
   "metadata": {},
   "source": [
    "Q.1. What are escape characters, and how do you use them?\n",
    "\n",
    "Ans. Escape cheracters are thode which are illegal to insert in a a string otherwise, but can make thebuse of string easier at some places."
   ]
  },
  {
   "cell_type": "code",
   "execution_count": 3,
   "id": "df6eb458",
   "metadata": {},
   "outputs": [
    {
     "ename": "SyntaxError",
     "evalue": "invalid syntax (Temp/ipykernel_9240/4083205528.py, line 1)",
     "output_type": "error",
     "traceback": [
      "\u001b[1;36m  File \u001b[1;32m\"C:\\Users\\User\\AppData\\Local\\Temp/ipykernel_9240/4083205528.py\"\u001b[1;36m, line \u001b[1;32m1\u001b[0m\n\u001b[1;33m    s= \"he is the so called \"dictator\" of the country\"\u001b[0m\n\u001b[1;37m                             ^\u001b[0m\n\u001b[1;31mSyntaxError\u001b[0m\u001b[1;31m:\u001b[0m invalid syntax\n"
     ]
    }
   ],
   "source": [
    "s= \"he is the so called \"dictator\" of the country\"\n",
    "print(s)\n",
    "# this will give an error and can be solved by using '' in place of \"\" for complete string, or can be removed by using a backslash(\\\") "
   ]
  },
  {
   "cell_type": "code",
   "execution_count": 4,
   "id": "333a62b2",
   "metadata": {},
   "outputs": [
    {
     "name": "stdout",
     "output_type": "stream",
     "text": [
      "he is the so called \"dictator\" of the country \n"
     ]
    }
   ],
   "source": [
    "s='he is the so called \"dictator\" of the country '\n",
    "print(s)"
   ]
  },
  {
   "cell_type": "code",
   "execution_count": 7,
   "id": "43b34300",
   "metadata": {},
   "outputs": [
    {
     "name": "stdout",
     "output_type": "stream",
     "text": [
      " he the so called \"dictator\" of the country\n"
     ]
    }
   ],
   "source": [
    "# using escape cheracter\n",
    "s= \" he the so called \\\"dictator\\\" of the country\"\n",
    "print(s)"
   ]
  },
  {
   "cell_type": "markdown",
   "id": "a51ff4d2",
   "metadata": {},
   "source": [
    "Q.2. What do the escape characters n and t stand for?\n",
    "\n",
    "Ans. escape charactes n is used to start new line and t is used to put tab in the line."
   ]
  },
  {
   "cell_type": "code",
   "execution_count": 8,
   "id": "dfab4892",
   "metadata": {},
   "outputs": [
    {
     "name": "stdout",
     "output_type": "stream",
     "text": [
      "he is tbe dictator\n",
      " who doesn't listen to \t anyeone\n"
     ]
    }
   ],
   "source": [
    "s= 'he is tbe dictator\\n who doesn\\'t listen to \\t anyeone'\n",
    "print(s)"
   ]
  },
  {
   "cell_type": "markdown",
   "id": "2d56b6ab",
   "metadata": {},
   "source": [
    "Q.3. What is the way to include backslash characters in a string?\n",
    "\n",
    "Ans. \\\\ is the escape character whichbis used as backslash character in a string."
   ]
  },
  {
   "cell_type": "code",
   "execution_count": 9,
   "id": "a0966f02",
   "metadata": {},
   "outputs": [
    {
     "name": "stdout",
     "output_type": "stream",
     "text": [
      "using \\insert a backslash\n"
     ]
    }
   ],
   "source": [
    "s= 'using \\\\insert a backslash'\n",
    "print(s)"
   ]
  },
  {
   "cell_type": "markdown",
   "id": "dc31f98a",
   "metadata": {},
   "source": [
    "Q.4. The string \"Howl's Moving Castle\" is a correct value. Why isn't the single quote character in the word Howl's not escaped a problem?\n",
    "\n",
    "Ans. the single quote doesn't create problem as the string is under double quote and hence it can identify the single quote differently.if the string was enclosed in single quotes then it would have been a problem to identify the use of single quotes"
   ]
  },
  {
   "cell_type": "code",
   "execution_count": 10,
   "id": "242d945e",
   "metadata": {},
   "outputs": [
    {
     "name": "stdout",
     "output_type": "stream",
     "text": [
      "Howl's Moving Castle\n"
     ]
    }
   ],
   "source": [
    "s=\"Howl's Moving Castle\" \n",
    "print(s)"
   ]
  },
  {
   "cell_type": "code",
   "execution_count": 11,
   "id": "bdb052d4",
   "metadata": {},
   "outputs": [
    {
     "ename": "SyntaxError",
     "evalue": "invalid syntax (Temp/ipykernel_12216/3456756248.py, line 1)",
     "output_type": "error",
     "traceback": [
      "\u001b[1;36m  File \u001b[1;32m\"C:\\Users\\User\\AppData\\Local\\Temp/ipykernel_12216/3456756248.py\"\u001b[1;36m, line \u001b[1;32m1\u001b[0m\n\u001b[1;33m    s='Howl's Moving Castle'\u001b[0m\n\u001b[1;37m            ^\u001b[0m\n\u001b[1;31mSyntaxError\u001b[0m\u001b[1;31m:\u001b[0m invalid syntax\n"
     ]
    }
   ],
   "source": [
    "s='Howl's Moving Castle'\n",
    "print(s)"
   ]
  },
  {
   "cell_type": "markdown",
   "id": "738231a9",
   "metadata": {},
   "source": [
    "Q.5. How do you write a string of newlines if you don't want to use the n character?\n",
    "\n",
    "Ans. Multiline string can be used to write something in different lines without using n character "
   ]
  },
  {
   "cell_type": "code",
   "execution_count": 15,
   "id": "d3536516",
   "metadata": {},
   "outputs": [
    {
     "name": "stdout",
     "output_type": "stream",
     "text": [
      "without using slash n\n",
      "we can write multilines\n"
     ]
    }
   ],
   "source": [
    "print('without using slash n')\n",
    "print('we can write multilines')\n"
   ]
  },
  {
   "cell_type": "markdown",
   "id": "ce1165fa",
   "metadata": {},
   "source": [
    "Q.6. What are the values of the given expressions?\n",
    "'Hello, world!'[1]\n",
    "'Hello, world!'[0:5]\n",
    "'Hello, world!'[:5]\n",
    "'Hello, world!'[3:]\n"
   ]
  },
  {
   "cell_type": "code",
   "execution_count": 17,
   "id": "d06f9ad9",
   "metadata": {},
   "outputs": [
    {
     "data": {
      "text/plain": [
       "'e'"
      ]
     },
     "execution_count": 17,
     "metadata": {},
     "output_type": "execute_result"
    }
   ],
   "source": [
    "#Ans. \n",
    "\n",
    "'Hello, world!'[1]\n"
   ]
  },
  {
   "cell_type": "code",
   "execution_count": 18,
   "id": "d394bcf1",
   "metadata": {},
   "outputs": [
    {
     "data": {
      "text/plain": [
       "'Hello'"
      ]
     },
     "execution_count": 18,
     "metadata": {},
     "output_type": "execute_result"
    }
   ],
   "source": [
    "'Hello, world!'[0:5]"
   ]
  },
  {
   "cell_type": "code",
   "execution_count": 19,
   "id": "d80c0a02",
   "metadata": {},
   "outputs": [
    {
     "data": {
      "text/plain": [
       "'Hello'"
      ]
     },
     "execution_count": 19,
     "metadata": {},
     "output_type": "execute_result"
    }
   ],
   "source": [
    "'Hello, world!'[:5]"
   ]
  },
  {
   "cell_type": "code",
   "execution_count": 20,
   "id": "96b897f3",
   "metadata": {},
   "outputs": [
    {
     "data": {
      "text/plain": [
       "'lo, world!'"
      ]
     },
     "execution_count": 20,
     "metadata": {},
     "output_type": "execute_result"
    }
   ],
   "source": [
    "'Hello, world!'[3:]\n"
   ]
  },
  {
   "cell_type": "markdown",
   "id": "55603a45",
   "metadata": {},
   "source": [
    "Q.7.What are the values of the following expressions?\n",
    "\n",
    "'Hello'.upper()\n",
    "\n",
    "'Hello'.upper().isupper()\n",
    "\n",
    "'Hello'.upper().lower()"
   ]
  },
  {
   "cell_type": "code",
   "execution_count": 21,
   "id": "c54b69b7",
   "metadata": {},
   "outputs": [
    {
     "data": {
      "text/plain": [
       "'HELLO'"
      ]
     },
     "execution_count": 21,
     "metadata": {},
     "output_type": "execute_result"
    }
   ],
   "source": [
    "'Hello'.upper()"
   ]
  },
  {
   "cell_type": "code",
   "execution_count": 22,
   "id": "d7cbeedc",
   "metadata": {},
   "outputs": [
    {
     "data": {
      "text/plain": [
       "True"
      ]
     },
     "execution_count": 22,
     "metadata": {},
     "output_type": "execute_result"
    }
   ],
   "source": [
    "'Hello'.upper().isupper()"
   ]
  },
  {
   "cell_type": "code",
   "execution_count": 23,
   "id": "755f0220",
   "metadata": {},
   "outputs": [
    {
     "data": {
      "text/plain": [
       "'hello'"
      ]
     },
     "execution_count": 23,
     "metadata": {},
     "output_type": "execute_result"
    }
   ],
   "source": [
    "'Hello'.upper().lower()"
   ]
  },
  {
   "cell_type": "markdown",
   "id": "e7bdac19",
   "metadata": {},
   "source": [
    "Q.8.What are the values of the following expressions?\n",
    "\n",
    "'Remember, remember, the fifth of July.'.split()\n",
    "\n",
    "'-'.join('There can only one.'.split())\n"
   ]
  },
  {
   "cell_type": "code",
   "execution_count": 24,
   "id": "8f1b0967",
   "metadata": {},
   "outputs": [
    {
     "data": {
      "text/plain": [
       "['Remember,', 'remember,', 'the', 'fifth', 'of', 'July.']"
      ]
     },
     "execution_count": 24,
     "metadata": {},
     "output_type": "execute_result"
    }
   ],
   "source": [
    "'Remember, remember, the fifth of July.'.split()"
   ]
  },
  {
   "cell_type": "code",
   "execution_count": 26,
   "id": "e3607487",
   "metadata": {},
   "outputs": [
    {
     "data": {
      "text/plain": [
       "'There/can/only/one.'"
      ]
     },
     "execution_count": 26,
     "metadata": {},
     "output_type": "execute_result"
    }
   ],
   "source": [
    "'-'.join('There can only one.'.split())"
   ]
  },
  {
   "cell_type": "code",
   "execution_count": 28,
   "id": "2a2ddfc9",
   "metadata": {},
   "outputs": [
    {
     "data": {
      "text/plain": [
       "'There/can/only/one.'"
      ]
     },
     "execution_count": 28,
     "metadata": {},
     "output_type": "execute_result"
    }
   ],
   "source": [
    "'/'.join('There can only one.'.split())"
   ]
  },
  {
   "cell_type": "markdown",
   "id": "ba32c875",
   "metadata": {},
   "source": [
    "Q.9.What are the methods for right-justifying, left-justifying, and centering a string?\n",
    "\n",
    "Ans. The rjust(), ljust(), and center() string methods, respectively"
   ]
  },
  {
   "cell_type": "markdown",
   "id": "ca861fe3",
   "metadata": {},
   "source": [
    "Q.10. What is the best way to remove whitespace characters from the start or end?\n",
    "\n",
    "Ans. The lstrip() and rstrip() methods remove whitespace from the left and right ends of a string, respectively."
   ]
  }
 ],
 "metadata": {
  "kernelspec": {
   "display_name": "Python 3 (ipykernel)",
   "language": "python",
   "name": "python3"
  },
  "language_info": {
   "codemirror_mode": {
    "name": "ipython",
    "version": 3
   },
   "file_extension": ".py",
   "mimetype": "text/x-python",
   "name": "python",
   "nbconvert_exporter": "python",
   "pygments_lexer": "ipython3",
   "version": "3.9.7"
  }
 },
 "nbformat": 4,
 "nbformat_minor": 5
}
